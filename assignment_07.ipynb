{
 "cells": [
  {
   "cell_type": "code",
   "execution_count": 174,
   "id": "72606152-213f-48c3-8483-8b00996987c5",
   "metadata": {},
   "outputs": [],
   "source": [
    "import nltk"
   ]
  },
  {
   "cell_type": "code",
   "execution_count": 175,
   "id": "fa080aea-de9f-44f1-a2e5-020db58339e4",
   "metadata": {},
   "outputs": [],
   "source": [
    "romeojuliet = open(\"Shakespeare.txt\")"
   ]
  },
  {
   "cell_type": "markdown",
   "id": "840e4c9c-61af-4030-a34a-7aabb059684e",
   "metadata": {},
   "source": [
    "## Tokenization"
   ]
  },
  {
   "cell_type": "code",
   "execution_count": 176,
   "id": "b20e6844-d868-4a7e-89b6-f8007eb5ec21",
   "metadata": {},
   "outputs": [],
   "source": [
    "from nltk.tokenize import word_tokenize, sent_tokenize\n",
    "\n",
    "# Tokenizes the text into sentences\n",
    "text = romeojuliet.read()\n",
    "sentences = sent_tokenize(text)"
   ]
  },
  {
   "cell_type": "code",
   "execution_count": 177,
   "id": "ecdf5f10-4f4c-4b6d-b593-10803c2b0f90",
   "metadata": {},
   "outputs": [],
   "source": [
    "# Tokenizes the text into words\n",
    "words = []\n",
    "for s in sentences:\n",
    "    for w in word_tokenize(s):\n",
    "        words.append(w)"
   ]
  },
  {
   "cell_type": "markdown",
   "id": "fbd84439-5d1d-4f19-b2da-cbecdaa73676",
   "metadata": {},
   "source": [
    "## Remove Stopwords"
   ]
  },
  {
   "cell_type": "code",
   "execution_count": 178,
   "id": "d5eaee40-7f50-4a04-b000-38791fc2d19b",
   "metadata": {},
   "outputs": [
    {
     "name": "stderr",
     "output_type": "stream",
     "text": [
      "[nltk_data] Downloading package stopwords to /home/jovyan/nltk_data...\n",
      "[nltk_data]   Package stopwords is already up-to-date!\n"
     ]
    },
    {
     "data": {
      "text/plain": [
       "True"
      ]
     },
     "execution_count": 178,
     "metadata": {},
     "output_type": "execute_result"
    }
   ],
   "source": [
    "from nltk.corpus import stopwords\n",
    "from string import punctuation\n",
    "nltk.download('stopwords')"
   ]
  },
  {
   "cell_type": "code",
   "execution_count": 179,
   "id": "ad83e634-da88-454b-bebd-fd55d5042cc5",
   "metadata": {},
   "outputs": [],
   "source": [
    "# Creating the stopwords for the text\n",
    "textsw = list(punctuation) + stopwords.words('english')"
   ]
  },
  {
   "cell_type": "code",
   "execution_count": 180,
   "id": "e4e19149-9c13-4634-ad0e-ba9d509d930c",
   "metadata": {},
   "outputs": [],
   "source": [
    "text_cleaned = [word for word in words if word.lower() not in textsw]"
   ]
  },
  {
   "cell_type": "markdown",
   "id": "d88d4667-0394-4885-94fd-fda9939647cb",
   "metadata": {},
   "source": [
    "## Stemming"
   ]
  },
  {
   "cell_type": "code",
   "execution_count": 181,
   "id": "ef85f3da-c736-45cb-a764-503f35a63a5e",
   "metadata": {},
   "outputs": [],
   "source": [
    "from nltk.stem.lancaster import LancasterStemmer"
   ]
  },
  {
   "cell_type": "code",
   "execution_count": 182,
   "id": "7db18c6c-a3cf-4c47-b042-bf284afcaca3",
   "metadata": {},
   "outputs": [],
   "source": [
    "wordLancasterStems = [LancasterStemmer().stem(w) for w in text_cleaned]"
   ]
  },
  {
   "cell_type": "markdown",
   "id": "c6a97277-009e-4ce3-9f94-d33ff472ed15",
   "metadata": {},
   "source": [
    "## Word frequencies "
   ]
  },
  {
   "cell_type": "code",
   "execution_count": 183,
   "id": "1f383a17-ca4a-44be-a1e6-2bba56643135",
   "metadata": {},
   "outputs": [],
   "source": [
    "import collections\n",
    "w_counts = collections.Counter(wordLancasterStems)"
   ]
  },
  {
   "cell_type": "code",
   "execution_count": 184,
   "id": "2fa33bb5-e9c3-437d-b738-161e4fd1f1e1",
   "metadata": {},
   "outputs": [
    {
     "data": {
      "text/plain": [
       "[(\"'s\", 293),\n",
       " ('thou', 278),\n",
       " (\"'d\", 224),\n",
       " ('lov', 171),\n",
       " ('thy', 164),\n",
       " ('rom', 163),\n",
       " ('romeo', 154),\n",
       " ('nurs', 148),\n",
       " ('the', 136),\n",
       " ('com', 127),\n",
       " ('jul', 120),\n",
       " ('shal', 112),\n",
       " ('fri', 93),\n",
       " ('ent', 92),\n",
       " (\"'ll\", 90),\n",
       " ('man', 85),\n",
       " ('project', 84),\n",
       " ('lady', 83),\n",
       " ('good', 83),\n",
       " ('night', 81)]"
      ]
     },
     "execution_count": 184,
     "metadata": {},
     "output_type": "execute_result"
    }
   ],
   "source": [
    "frequencies = w_counts.most_common()\n",
    "# shows top 20 for example, the list is too long\n",
    "frequencies[0:20]"
   ]
  },
  {
   "cell_type": "markdown",
   "id": "8e48df5e-71c8-4976-b1f9-ab38e3de0383",
   "metadata": {},
   "source": [
    "## Mean,median mode, trimmed mean, histogram, standard deviation, interquartile range"
   ]
  },
  {
   "cell_type": "code",
   "execution_count": 185,
   "id": "aa482510-caa3-4dda-a933-10cfba6d14f9",
   "metadata": {},
   "outputs": [],
   "source": [
    "import pandas as pd "
   ]
  },
  {
   "cell_type": "code",
   "execution_count": 186,
   "id": "8eac589a-e1de-441f-9697-0d7e3ed7a333",
   "metadata": {},
   "outputs": [],
   "source": [
    "word_freq = pd.DataFrame(frequencies,columns=[\"word\",\"frequency\"])"
   ]
  },
  {
   "cell_type": "code",
   "execution_count": 187,
   "id": "1825e50c-e789-443f-a19c-502e8e23c049",
   "metadata": {},
   "outputs": [
    {
     "data": {
      "text/plain": [
       "5.364794252122795"
      ]
     },
     "execution_count": 187,
     "metadata": {},
     "output_type": "execute_result"
    }
   ],
   "source": [
    "# The mean is about 5.36 \n",
    "word_freq[\"frequency\"].mean()"
   ]
  },
  {
   "cell_type": "code",
   "execution_count": 188,
   "id": "38e3b195-c902-4858-8c17-d5eb00f6bfcd",
   "metadata": {},
   "outputs": [
    {
     "data": {
      "text/plain": [
       "2.0"
      ]
     },
     "execution_count": 188,
     "metadata": {},
     "output_type": "execute_result"
    }
   ],
   "source": [
    "# The median is 2\n",
    "word_freq[\"frequency\"].median()"
   ]
  },
  {
   "cell_type": "code",
   "execution_count": 167,
   "id": "1dd93fc6-33f1-47b1-9a29-0a750624f9ff",
   "metadata": {},
   "outputs": [
    {
     "data": {
      "text/plain": [
       "0    1\n",
       "dtype: int64"
      ]
     },
     "execution_count": 167,
     "metadata": {},
     "output_type": "execute_result"
    }
   ],
   "source": [
    "# The mode is 1\n",
    "word_freq[\"frequency\"].mode()"
   ]
  },
  {
   "cell_type": "code",
   "execution_count": 168,
   "id": "604854f5-578f-4f82-84b7-bce92dc588f8",
   "metadata": {},
   "outputs": [],
   "source": [
    "word_freq2 = word_freq.sort_values(by=\"frequency\",ignore_index=True).copy()"
   ]
  },
  {
   "cell_type": "code",
   "execution_count": 33,
   "id": "40bd10d2-f84d-4846-8789-81ea4dece041",
   "metadata": {},
   "outputs": [
    {
     "data": {
      "text/plain": [
       "1.0"
      ]
     },
     "execution_count": 33,
     "metadata": {},
     "output_type": "execute_result"
    }
   ],
   "source": [
    "#trimmed mean\n",
    "# I am not sure how the frequencies distribute, but I don't want to make any assumption,\n",
    "# so I will take 96% of the data, just trimming a little bit\n",
    "word_freq2.loc[int(0.02*4574):int(0.98*1005),'frequency'].mean()"
   ]
  },
  {
   "cell_type": "code",
   "execution_count": 169,
   "id": "d658fbe1-ac1d-4376-b5ac-eb33a977c79c",
   "metadata": {},
   "outputs": [
    {
     "data": {
      "text/plain": [
       "<AxesSubplot:ylabel='Frequency'>"
      ]
     },
     "execution_count": 169,
     "metadata": {},
     "output_type": "execute_result"
    },
    {
     "data": {
      "image/png": "[encoded data removed]",
      "text/plain": [
       "<Figure size 432x288 with 1 Axes>"
      ]
     },
     "metadata": {
      "needs_background": "light"
     },
     "output_type": "display_data"
    }
   ],
   "source": [
    "word_freq2[\"frequency\"].plot.hist()\n",
    "# Most of the word frequencies are 1. There are very few words that have high frequencies. \n",
    "# This histogram corresponds to the small mean of 5.46, median of 2 and mode of 1. \n",
    "# The trimmed mean includes 96% of the data, which has a lot of \"1\", \n",
    "# and probably took out the large outlier on the right\n",
    "# so it's not surprised that the trimmed mean is closer to 1 than the actual mean. "
   ]
  },
  {
   "cell_type": "code",
   "execution_count": 171,
   "id": "d1ef24df-abc8-4a10-8cfa-728de61532ae",
   "metadata": {},
   "outputs": [
    {
     "data": {
      "text/plain": [
       "14.53390285082341"
      ]
     },
     "execution_count": 171,
     "metadata": {},
     "output_type": "execute_result"
    }
   ],
   "source": [
    "# The standard deviation is about 14.53\n",
    "# This large standard deviation make sense considering the large outliers and small median & mode \n",
    "\n",
    "import math \n",
    "mu = word_freq[\"frequency\"].mean()\n",
    "n = len(word_freq)\n",
    "sum = 0 \n",
    "for i in word_freq[\"frequency\"]:\n",
    "    sum += (i - mu)*(i - mu) \n",
    "sd = math.sqrt(sum/n) \n",
    "sd"
   ]
  },
  {
   "cell_type": "code",
   "execution_count": 173,
   "id": "b3d5a803-fdd7-41a4-859d-ea59fbd3c1e1",
   "metadata": {},
   "outputs": [
    {
     "data": {
      "text/plain": [
       "3.0"
      ]
     },
     "execution_count": 173,
     "metadata": {},
     "output_type": "execute_result"
    }
   ],
   "source": [
    "# The interquartile range of 3 make sense as most data have very small frequencies. \n",
    "# On the histogram, we can see that most data are clustered to the left. \n",
    "# Thus, it make sense they have a small distance between them. \n",
    "word_freq[\"frequency\"].quantile(0.75) - word_freq[\"frequency\"].quantile(0.25)\n",
    "\n",
    "# The interquartile range shows the relative distance between middle 50% of the data\n",
    "# while the standard deviation calculates the distance between every data point. \n",
    "# Since most data are small and clustered to the left, but there are large outliers,\n",
    "# it is logical to have a huge standard deviation and small interquartile range. "
   ]
  },
  {
   "cell_type": "markdown",
   "id": "dd4b1b95-0d0f-4d7d-9fd8-9adc54eef6ae",
   "metadata": {},
   "source": [
    "## Foray into Machine Learning "
   ]
  },
  {
   "cell_type": "code",
   "execution_count": 49,
   "id": "8692edae-2c17-4e6a-a231-c693258befc4",
   "metadata": {},
   "outputs": [],
   "source": [
    "from sklearn import datasets\n",
    "df = datasets.load_diabetes(as_frame=True) \n",
    "features_df = df.data\n",
    "target_df = df.target"
   ]
  },
  {
   "cell_type": "markdown",
   "id": "6dfd69f3-7875-46e1-a28a-a2391aaa4bee",
   "metadata": {},
   "source": [
    "## Exploratory Analysis"
   ]
  },
  {
   "cell_type": "code",
   "execution_count": 69,
   "id": "c2c6e5dd-9615-4455-89d1-9a4892ea1022",
   "metadata": {},
   "outputs": [
    {
     "data": {
      "text/html": [
       "<div>\n",
       "<style scoped>\n",
       "    .dataframe tbody tr th:only-of-type {\n",
       "        vertical-align: middle;\n",
       "    }\n",
       "\n",
       "    .dataframe tbody tr th {\n",
       "        vertical-align: top;\n",
       "    }\n",
       "\n",
       "    .dataframe thead th {\n",
       "        text-align: right;\n",
       "    }\n",
       "</style>\n",
       "<table border=\"1\" class=\"dataframe\">\n",
       "  <thead>\n",
       "    <tr style=\"text-align: right;\">\n",
       "      <th></th>\n",
       "      <th>age</th>\n",
       "      <th>sex</th>\n",
       "      <th>bmi</th>\n",
       "      <th>bp</th>\n",
       "      <th>s1</th>\n",
       "      <th>s2</th>\n",
       "      <th>s3</th>\n",
       "      <th>s4</th>\n",
       "      <th>s5</th>\n",
       "      <th>s6</th>\n",
       "    </tr>\n",
       "  </thead>\n",
       "  <tbody>\n",
       "    <tr>\n",
       "      <th>count</th>\n",
       "      <td>4.420000e+02</td>\n",
       "      <td>4.420000e+02</td>\n",
       "      <td>4.420000e+02</td>\n",
       "      <td>4.420000e+02</td>\n",
       "      <td>4.420000e+02</td>\n",
       "      <td>4.420000e+02</td>\n",
       "      <td>4.420000e+02</td>\n",
       "      <td>4.420000e+02</td>\n",
       "      <td>4.420000e+02</td>\n",
       "      <td>4.420000e+02</td>\n",
       "    </tr>\n",
       "    <tr>\n",
       "      <th>mean</th>\n",
       "      <td>-3.634285e-16</td>\n",
       "      <td>1.308343e-16</td>\n",
       "      <td>-8.045349e-16</td>\n",
       "      <td>1.281655e-16</td>\n",
       "      <td>-8.835316e-17</td>\n",
       "      <td>1.327024e-16</td>\n",
       "      <td>-4.574646e-16</td>\n",
       "      <td>3.777301e-16</td>\n",
       "      <td>-3.830854e-16</td>\n",
       "      <td>-3.412882e-16</td>\n",
       "    </tr>\n",
       "    <tr>\n",
       "      <th>std</th>\n",
       "      <td>4.761905e-02</td>\n",
       "      <td>4.761905e-02</td>\n",
       "      <td>4.761905e-02</td>\n",
       "      <td>4.761905e-02</td>\n",
       "      <td>4.761905e-02</td>\n",
       "      <td>4.761905e-02</td>\n",
       "      <td>4.761905e-02</td>\n",
       "      <td>4.761905e-02</td>\n",
       "      <td>4.761905e-02</td>\n",
       "      <td>4.761905e-02</td>\n",
       "    </tr>\n",
       "    <tr>\n",
       "      <th>min</th>\n",
       "      <td>-1.072256e-01</td>\n",
       "      <td>-4.464164e-02</td>\n",
       "      <td>-9.027530e-02</td>\n",
       "      <td>-1.123996e-01</td>\n",
       "      <td>-1.267807e-01</td>\n",
       "      <td>-1.156131e-01</td>\n",
       "      <td>-1.023071e-01</td>\n",
       "      <td>-7.639450e-02</td>\n",
       "      <td>-1.260974e-01</td>\n",
       "      <td>-1.377672e-01</td>\n",
       "    </tr>\n",
       "    <tr>\n",
       "      <th>25%</th>\n",
       "      <td>-3.729927e-02</td>\n",
       "      <td>-4.464164e-02</td>\n",
       "      <td>-3.422907e-02</td>\n",
       "      <td>-3.665645e-02</td>\n",
       "      <td>-3.424784e-02</td>\n",
       "      <td>-3.035840e-02</td>\n",
       "      <td>-3.511716e-02</td>\n",
       "      <td>-3.949338e-02</td>\n",
       "      <td>-3.324879e-02</td>\n",
       "      <td>-3.317903e-02</td>\n",
       "    </tr>\n",
       "    <tr>\n",
       "      <th>50%</th>\n",
       "      <td>5.383060e-03</td>\n",
       "      <td>-4.464164e-02</td>\n",
       "      <td>-7.283766e-03</td>\n",
       "      <td>-5.670611e-03</td>\n",
       "      <td>-4.320866e-03</td>\n",
       "      <td>-3.819065e-03</td>\n",
       "      <td>-6.584468e-03</td>\n",
       "      <td>-2.592262e-03</td>\n",
       "      <td>-1.947634e-03</td>\n",
       "      <td>-1.077698e-03</td>\n",
       "    </tr>\n",
       "    <tr>\n",
       "      <th>75%</th>\n",
       "      <td>3.807591e-02</td>\n",
       "      <td>5.068012e-02</td>\n",
       "      <td>3.124802e-02</td>\n",
       "      <td>3.564384e-02</td>\n",
       "      <td>2.835801e-02</td>\n",
       "      <td>2.984439e-02</td>\n",
       "      <td>2.931150e-02</td>\n",
       "      <td>3.430886e-02</td>\n",
       "      <td>3.243323e-02</td>\n",
       "      <td>2.791705e-02</td>\n",
       "    </tr>\n",
       "    <tr>\n",
       "      <th>max</th>\n",
       "      <td>1.107267e-01</td>\n",
       "      <td>5.068012e-02</td>\n",
       "      <td>1.705552e-01</td>\n",
       "      <td>1.320442e-01</td>\n",
       "      <td>1.539137e-01</td>\n",
       "      <td>1.987880e-01</td>\n",
       "      <td>1.811791e-01</td>\n",
       "      <td>1.852344e-01</td>\n",
       "      <td>1.335990e-01</td>\n",
       "      <td>1.356118e-01</td>\n",
       "    </tr>\n",
       "  </tbody>\n",
       "</table>\n",
       "</div>"
      ],
      "text/plain": [
       "                age           sex           bmi            bp            s1  \\\n",
       "count  4.420000e+02  4.420000e+02  4.420000e+02  4.420000e+02  4.420000e+02   \n",
       "mean  -3.634285e-16  1.308343e-16 -8.045349e-16  1.281655e-16 -8.835316e-17   \n",
       "std    4.761905e-02  4.761905e-02  4.761905e-02  4.761905e-02  4.761905e-02   \n",
       "min   -1.072256e-01 -4.464164e-02 -9.027530e-02 -1.123996e-01 -1.267807e-01   \n",
       "25%   -3.729927e-02 -4.464164e-02 -3.422907e-02 -3.665645e-02 -3.424784e-02   \n",
       "50%    5.383060e-03 -4.464164e-02 -7.283766e-03 -5.670611e-03 -4.320866e-03   \n",
       "75%    3.807591e-02  5.068012e-02  3.124802e-02  3.564384e-02  2.835801e-02   \n",
       "max    1.107267e-01  5.068012e-02  1.705552e-01  1.320442e-01  1.539137e-01   \n",
       "\n",
       "                 s2            s3            s4            s5            s6  \n",
       "count  4.420000e+02  4.420000e+02  4.420000e+02  4.420000e+02  4.420000e+02  \n",
       "mean   1.327024e-16 -4.574646e-16  3.777301e-16 -3.830854e-16 -3.412882e-16  \n",
       "std    4.761905e-02  4.761905e-02  4.761905e-02  4.761905e-02  4.761905e-02  \n",
       "min   -1.156131e-01 -1.023071e-01 -7.639450e-02 -1.260974e-01 -1.377672e-01  \n",
       "25%   -3.035840e-02 -3.511716e-02 -3.949338e-02 -3.324879e-02 -3.317903e-02  \n",
       "50%   -3.819065e-03 -6.584468e-03 -2.592262e-03 -1.947634e-03 -1.077698e-03  \n",
       "75%    2.984439e-02  2.931150e-02  3.430886e-02  3.243323e-02  2.791705e-02  \n",
       "max    1.987880e-01  1.811791e-01  1.852344e-01  1.335990e-01  1.356118e-01  "
      ]
     },
     "execution_count": 69,
     "metadata": {},
     "output_type": "execute_result"
    }
   ],
   "source": [
    "# It is hard to analyze the data from summary statistics.\n",
    "features_df.describe()"
   ]
  },
  {
   "cell_type": "code",
   "execution_count": 83,
   "id": "e0d2ec9d-3380-44a7-9f91-ff2a220562fa",
   "metadata": {},
   "outputs": [
    {
     "data": {
      "text/plain": [
       "<AxesSubplot:ylabel='Frequency'>"
      ]
     },
     "execution_count": 83,
     "metadata": {},
     "output_type": "execute_result"
    },
    {
     "data": {
      "image/png": "[encoded data removed]",
      "text/plain": [
       "<Figure size 432x288 with 1 Axes>"
      ]
     },
     "metadata": {
      "needs_background": "light"
     },
     "output_type": "display_data"
    }
   ],
   "source": [
    "# From the plots of numerical columns below, \n",
    "# we can see most of the numerical values are normally distributed. \n",
    "features_df[\"age\"].plot.hist()"
   ]
  },
  {
   "cell_type": "code",
   "execution_count": 84,
   "id": "32f155dd-fb55-4ddc-8b00-ca1ad341a0d2",
   "metadata": {},
   "outputs": [
    {
     "data": {
      "text/plain": [
       "<AxesSubplot:ylabel='Frequency'>"
      ]
     },
     "execution_count": 84,
     "metadata": {},
     "output_type": "execute_result"
    },
    {
     "data": {
      "image/png": "[encoded data removed]",
      "text/plain": [
       "<Figure size 432x288 with 1 Axes>"
      ]
     },
     "metadata": {
      "needs_background": "light"
     },
     "output_type": "display_data"
    }
   ],
   "source": [
    "features_df[\"bmi\"].plot.hist()"
   ]
  },
  {
   "cell_type": "code",
   "execution_count": 85,
   "id": "5468c9f7-680c-466b-a840-4bc34015e479",
   "metadata": {},
   "outputs": [
    {
     "data": {
      "text/plain": [
       "<AxesSubplot:ylabel='Frequency'>"
      ]
     },
     "execution_count": 85,
     "metadata": {},
     "output_type": "execute_result"
    },
    {
     "data": {
      "image/png": "[encoded data removed]",
      "text/plain": [
       "<Figure size 432x288 with 1 Axes>"
      ]
     },
     "metadata": {
      "needs_background": "light"
     },
     "output_type": "display_data"
    }
   ],
   "source": [
    "features_df[\"bp\"].plot.hist()"
   ]
  },
  {
   "cell_type": "code",
   "execution_count": 86,
   "id": "39a418b2-ff11-4928-bcfd-429804f78e3c",
   "metadata": {},
   "outputs": [
    {
     "data": {
      "text/plain": [
       "<AxesSubplot:ylabel='Frequency'>"
      ]
     },
     "execution_count": 86,
     "metadata": {},
     "output_type": "execute_result"
    },
    {
     "data": {
      "image/png": "[encoded data removed]",
      "text/plain": [
       "<Figure size 432x288 with 1 Axes>"
      ]
     },
     "metadata": {
      "needs_background": "light"
     },
     "output_type": "display_data"
    }
   ],
   "source": [
    "features_df[\"s1\"].plot.hist()"
   ]
  },
  {
   "cell_type": "code",
   "execution_count": 87,
   "id": "9da59ecf-98dd-4387-9dc2-30263043aeb2",
   "metadata": {},
   "outputs": [
    {
     "data": {
      "text/plain": [
       "<AxesSubplot:ylabel='Frequency'>"
      ]
     },
     "execution_count": 87,
     "metadata": {},
     "output_type": "execute_result"
    },
    {
     "data": {
      "image/png": "[encoded data removed]",
      "text/plain": [
       "<Figure size 432x288 with 1 Axes>"
      ]
     },
     "metadata": {
      "needs_background": "light"
     },
     "output_type": "display_data"
    }
   ],
   "source": [
    "features_df[\"s2\"].plot.hist()"
   ]
  },
  {
   "cell_type": "code",
   "execution_count": 88,
   "id": "047667ef-8fd5-4169-901a-436f4363ca1d",
   "metadata": {},
   "outputs": [
    {
     "data": {
      "text/plain": [
       "<AxesSubplot:ylabel='Frequency'>"
      ]
     },
     "execution_count": 88,
     "metadata": {},
     "output_type": "execute_result"
    },
    {
     "data": {
      "image/png": "[encoded data removed]",
      "text/plain": [
       "<Figure size 432x288 with 1 Axes>"
      ]
     },
     "metadata": {
      "needs_background": "light"
     },
     "output_type": "display_data"
    }
   ],
   "source": [
    "features_df[\"s3\"].plot.hist()"
   ]
  },
  {
   "cell_type": "code",
   "execution_count": 89,
   "id": "73a6b21f-8c3f-4e61-b690-57677b1d97f7",
   "metadata": {},
   "outputs": [
    {
     "data": {
      "text/plain": [
       "<AxesSubplot:ylabel='Frequency'>"
      ]
     },
     "execution_count": 89,
     "metadata": {},
     "output_type": "execute_result"
    },
    {
     "data": {
      "image/png": "[encoded data removed]",
      "text/plain": [
       "<Figure size 432x288 with 1 Axes>"
      ]
     },
     "metadata": {
      "needs_background": "light"
     },
     "output_type": "display_data"
    }
   ],
   "source": [
    "features_df[\"s4\"].plot.hist()"
   ]
  },
  {
   "cell_type": "code",
   "execution_count": 90,
   "id": "2d1657ce-aee4-49f8-b284-07257a09cfbf",
   "metadata": {},
   "outputs": [
    {
     "data": {
      "text/plain": [
       "<AxesSubplot:ylabel='Frequency'>"
      ]
     },
     "execution_count": 90,
     "metadata": {},
     "output_type": "execute_result"
    },
    {
     "data": {
      "image/png": "[encoded data removed]",
      "text/plain": [
       "<Figure size 432x288 with 1 Axes>"
      ]
     },
     "metadata": {
      "needs_background": "light"
     },
     "output_type": "display_data"
    }
   ],
   "source": [
    "features_df[\"s5\"].plot.hist()"
   ]
  },
  {
   "cell_type": "code",
   "execution_count": 91,
   "id": "a51b3dfe-eb7e-499f-a7b6-f9d998bc9739",
   "metadata": {},
   "outputs": [
    {
     "data": {
      "text/plain": [
       "<AxesSubplot:ylabel='Frequency'>"
      ]
     },
     "execution_count": 91,
     "metadata": {},
     "output_type": "execute_result"
    },
    {
     "data": {
      "image/png": "[encoded data removed]",
      "text/plain": [
       "<Figure size 432x288 with 1 Axes>"
      ]
     },
     "metadata": {
      "needs_background": "light"
     },
     "output_type": "display_data"
    }
   ],
   "source": [
    "features_df[\"s6\"].plot.hist()"
   ]
  },
  {
   "cell_type": "markdown",
   "id": "cf1ca1e3-b948-41a6-95d5-77e8dc92e4ef",
   "metadata": {},
   "source": [
    "## Highest correlation"
   ]
  },
  {
   "cell_type": "code",
   "execution_count": 120,
   "id": "ce7fc651-64d0-47b6-8b5a-3abb3a821b66",
   "metadata": {},
   "outputs": [
    {
     "name": "stdout",
     "output_type": "stream",
     "text": [
      "             age    target\n",
      "age     1.000000  0.187889\n",
      "target  0.187889  1.000000\n",
      "             sex    target\n",
      "sex     1.000000  0.043062\n",
      "target  0.043062  1.000000\n",
      "            bmi   target\n",
      "bmi     1.00000  0.58645\n",
      "target  0.58645  1.00000\n",
      "              bp    target\n",
      "bp      1.000000  0.441484\n",
      "target  0.441484  1.000000\n",
      "              s1    target\n",
      "s1      1.000000  0.212022\n",
      "target  0.212022  1.000000\n",
      "              s2    target\n",
      "s2      1.000000  0.174054\n",
      "target  0.174054  1.000000\n",
      "              s3    target\n",
      "s3      1.000000 -0.394789\n",
      "target -0.394789  1.000000\n",
      "              s4    target\n",
      "s4      1.000000  0.430453\n",
      "target  0.430453  1.000000\n",
      "              s5    target\n",
      "s5      1.000000  0.565883\n",
      "target  0.565883  1.000000\n",
      "              s6    target\n",
      "s6      1.000000  0.382483\n",
      "target  0.382483  1.000000\n"
     ]
    }
   ],
   "source": [
    "# The column with highest correlation is bmi. \n",
    "col=list(features_df.columns)\n",
    "new=features_df.copy()\n",
    "new[\"target\"] = list(target_df.values)\n",
    "for c in col:\n",
    "    print(new[[c,'target']].corr())"
   ]
  },
  {
   "cell_type": "markdown",
   "id": "3d00c5ad-df5a-4913-8c03-dc5e40166c7b",
   "metadata": {},
   "source": [
    "# target values vs this bmi column's values "
   ]
  },
  {
   "cell_type": "code",
   "execution_count": 121,
   "id": "0ed228be-d8c9-4142-be09-52eb7d8cc028",
   "metadata": {},
   "outputs": [
    {
     "data": {
      "text/plain": [
       "<AxesSubplot:xlabel='bmi', ylabel='target'>"
      ]
     },
     "execution_count": 121,
     "metadata": {},
     "output_type": "execute_result"
    },
    {
     "data": {
      "image/png": "[encoded data removed]",
      "text/plain": [
       "<Figure size 432x288 with 1 Axes>"
      ]
     },
     "metadata": {
      "needs_background": "light"
     },
     "output_type": "display_data"
    }
   ],
   "source": [
    "# We can see a highly linear pattern, thus the high correlation makes sense. \n",
    "new.plot.scatter(y='target',x='bmi')"
   ]
  },
  {
   "cell_type": "markdown",
   "id": "5b591dcc-f7eb-46ad-bd8a-bb578dff1889",
   "metadata": {},
   "source": [
    "## Linear regression"
   ]
  },
  {
   "cell_type": "code",
   "execution_count": 148,
   "id": "567d52ed-6cae-453b-b24a-527f64c554d8",
   "metadata": {},
   "outputs": [],
   "source": [
    "import numpy as np\n",
    "import matplotlib.pyplot as plt\n",
    "from sklearn.linear_model import LinearRegression\n",
    "from sklearn.metrics import mean_squared_error, r2_score"
   ]
  },
  {
   "cell_type": "code",
   "execution_count": 140,
   "id": "274fd220-f3fe-41d0-95d5-a857d6d91cdd",
   "metadata": {},
   "outputs": [],
   "source": [
    "x = np.array(new['bmi'])\n",
    "y = np.array(new['target'])\n",
    "reg = LinearRegression().fit(x.reshape(-1, 1), y)"
   ]
  },
  {
   "cell_type": "markdown",
   "id": "a798af3b-c8ae-4837-8fd1-f0500049b5e3",
   "metadata": {},
   "source": [
    "## coefficient of the model"
   ]
  },
  {
   "cell_type": "code",
   "execution_count": 142,
   "id": "3f55de74-977f-483e-bea5-364a7ee1e96c",
   "metadata": {},
   "outputs": [
    {
     "data": {
      "text/plain": [
       "array([949.43526038])"
      ]
     },
     "execution_count": 142,
     "metadata": {},
     "output_type": "execute_result"
    }
   ],
   "source": [
    "reg.coef_"
   ]
  },
  {
   "cell_type": "markdown",
   "id": "706d78f0-dcda-49de-b173-9a7e9371b402",
   "metadata": {},
   "source": [
    "## Plot the linear fit on top of the scatter plot"
   ]
  },
  {
   "cell_type": "code",
   "execution_count": 146,
   "id": "c4f03954-247b-4f59-ac30-fb513df01475",
   "metadata": {},
   "outputs": [
    {
     "data": {
      "text/plain": [
       "[<matplotlib.lines.Line2D at 0x7f285dce9af0>,\n",
       " <matplotlib.lines.Line2D at 0x7f285dce9bb0>]"
      ]
     },
     "execution_count": 146,
     "metadata": {},
     "output_type": "execute_result"
    },
    {
     "data": {
      "image/png": "[encoded data removed]",
      "text/plain": [
       "<Figure size 432x288 with 1 Axes>"
      ]
     },
     "metadata": {
      "needs_background": "light"
     },
     "output_type": "display_data"
    }
   ],
   "source": [
    "y2 = reg.intercept_ + reg.coef_ * X\n",
    "plt.plot(x,y,'ro',x,y2,'b-')"
   ]
  },
  {
   "cell_type": "markdown",
   "id": "1591ee56-dea2-4138-aaed-b11018a498df",
   "metadata": {},
   "source": [
    "## Output the mean squared error and R-squared values for your fit"
   ]
  },
  {
   "cell_type": "code",
   "execution_count": 150,
   "id": "19c91c3a-5ae1-431c-9625-2d49915cf089",
   "metadata": {},
   "outputs": [
    {
     "data": {
      "text/plain": [
       "3890.4565854612724"
      ]
     },
     "execution_count": 150,
     "metadata": {},
     "output_type": "execute_result"
    }
   ],
   "source": [
    "mean_squared_error(y, y2)"
   ]
  },
  {
   "cell_type": "code",
   "execution_count": 151,
   "id": "6c0cb251-915e-43c6-9f44-a9599f7a2e83",
   "metadata": {},
   "outputs": [
    {
     "data": {
      "text/plain": [
       "0.3439237602253803"
      ]
     },
     "execution_count": 151,
     "metadata": {},
     "output_type": "execute_result"
    }
   ],
   "source": [
    "r2_score(y, y2)"
   ]
  },
  {
   "cell_type": "markdown",
   "id": "592ff720-5075-4ea3-9ead-458260badbd3",
   "metadata": {},
   "source": [
    "## Linear Regression with s1 "
   ]
  },
  {
   "cell_type": "code",
   "execution_count": 153,
   "id": "bcd36259-3888-46a2-8936-b4e1550948fb",
   "metadata": {},
   "outputs": [],
   "source": [
    "x = np.array(new['s1'])\n",
    "y = np.array(new['target'])\n",
    "reg = LinearRegression().fit(x.reshape(-1, 1), y)\n",
    "y2 = reg.intercept_ + reg.coef_ * X"
   ]
  },
  {
   "cell_type": "code",
   "execution_count": 154,
   "id": "017d8651-d3da-4c0d-8ac2-84ce32e88187",
   "metadata": {},
   "outputs": [
    {
     "data": {
      "text/plain": [
       "4721.803129777341"
      ]
     },
     "execution_count": 154,
     "metadata": {},
     "output_type": "execute_result"
    }
   ],
   "source": [
    "mean_squared_error(y, y2)"
   ]
  },
  {
   "cell_type": "code",
   "execution_count": 156,
   "id": "3d89b813-5b72-4c34-b3db-a3e99c114ab8",
   "metadata": {},
   "outputs": [
    {
     "data": {
      "text/plain": [
       "0.20372769254972922"
      ]
     },
     "execution_count": 156,
     "metadata": {},
     "output_type": "execute_result"
    }
   ],
   "source": [
    "r2_score(y, y2)\n",
    "# The mean square error increased while r2 decreases. \n",
    "# This is the logical result as 's1' column is less correlated with target values.\n",
    "# Thus, it would have larger error and smaller accuracy between predicted and actual y values.\n",
    "# In other worlds, column 'bmi' is a better predictor than 'r2.'"
   ]
  }
 ],
 "metadata": {
  "kernelspec": {
   "display_name": "Python 3 (ipykernel)",
   "language": "python",
   "name": "python3"
  },
  "language_info": {
   "codemirror_mode": {
    "name": "ipython",
    "version": 3
   },
   "file_extension": ".py",
   "mimetype": "text/x-python",
   "name": "python",
   "nbconvert_exporter": "python",
   "pygments_lexer": "ipython3",
   "version": "3.9.6"
  }
 },
 "nbformat": 4,
 "nbformat_minor": 5
}
