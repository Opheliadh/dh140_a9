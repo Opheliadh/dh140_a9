{
 "cells": [
  {
   "cell_type": "code",
   "execution_count": 184,
   "id": "8f9a5e45-4628-4e56-b842-db54801fb5e4",
   "metadata": {},
   "outputs": [],
   "source": [
    "import pandas as pd \n",
    "import dash\n",
    "import dash_cytoscape as cyto\n",
    "from dash import html, dcc\n",
    "from dash.dependencies import Input, Output\n",
    "from jupyter_dash import JupyterDash\n",
    "from jupyter_dash.comms import _send_jupyter_config_comm_request"
   ]
  },
  {
   "cell_type": "code",
   "execution_count": 185,
   "id": "b49e4fa6-6136-4bcd-b3c5-0dfb98b5bff3",
   "metadata": {},
   "outputs": [],
   "source": [
    "_send_jupyter_config_comm_request()"
   ]
  },
  {
   "cell_type": "code",
   "execution_count": 187,
   "id": "f76ccd43-3850-4458-af38-bd3f2cf60729",
   "metadata": {},
   "outputs": [],
   "source": [
    "JupyterDash.infer_jupyter_proxy_config()"
   ]
  },
  {
   "cell_type": "code",
   "execution_count": 188,
   "id": "05db3a5b-7de4-46c5-b144-f51b68635749",
   "metadata": {},
   "outputs": [],
   "source": [
    "nodelist = [1,2,3,4,5,6]\n",
    "edgelist = [(1,2),(1,3),(1,4),(1,5),(1,6),(2,3)]\n",
    "\n",
    "graphitems = []\n",
    "\n",
    "for i in nodelist:\n",
    "    dashnode = {'data': {'id': str(i), 'label': str(i)}}\n",
    "    graphitems.append(dashnode)\n",
    "\n",
    "for i in edgelist:\n",
    "    dashedge = {'data': {'source': str(i[0]), 'target': str(i[1])}}\n",
    "    graphitems.append(dashedge)"
   ]
  },
  {
   "cell_type": "code",
   "execution_count": 189,
   "id": "15371ab8-74e9-48eb-94f5-7d2fea0a5531",
   "metadata": {},
   "outputs": [],
   "source": [
    "app = JupyterDash(__name__)\n",
    "\n",
    "app.layout = html.Div([\n",
    "    cyto.Cytoscape(\n",
    "        layout={'name': 'cose'},\n",
    "        elements=graphitems\n",
    "    )\n",
    "])"
   ]
  },
  {
   "cell_type": "code",
   "execution_count": 190,
   "id": "265ea9c5-6bd2-49d7-ac30-d4021f5234aa",
   "metadata": {},
   "outputs": [
    {
     "name": "stdout",
     "output_type": "stream",
     "text": [
      "Dash app running on https://jupyter.idre.ucla.edu/user/opheliadong@gmail.com/proxy/8050/\n"
     ]
    }
   ],
   "source": [
    "app.run_server(debug=True)"
   ]
  },
  {
   "cell_type": "code",
   "execution_count": 191,
   "id": "e252d83d-048c-40c7-b6f6-ac36ad968403",
   "metadata": {},
   "outputs": [],
   "source": [
    "app = JupyterDash(__name__)"
   ]
  },
  {
   "cell_type": "code",
   "execution_count": 192,
   "id": "9b76ab79-bf79-4560-8ff6-add7350317b2",
   "metadata": {},
   "outputs": [],
   "source": [
    "app.layout = html.Div([\n",
    "\n",
    "    dcc.Dropdown(\n",
    "        id='dropdown-update-layout',\n",
    "        value='cose',\n",
    "        options=[\n",
    "            {'label': 'Grid', 'value': 'grid'},\n",
    "            {'label': 'Random', 'value': 'random'},\n",
    "            {'label': 'Circle', 'value': 'circle'},\n",
    "            {'label': 'Cose', 'value': 'cose'},\n",
    "            {'label': 'Concentric', 'value': 'concentric'}\n",
    "        ]\n",
    "    ),\n",
    "    cyto.Cytoscape(\n",
    "        id='cytoscape-compound',\n",
    "        layout={'name': 'cose'},\n",
    "        elements=graphitems\n",
    "    )\n",
    "])\n",
    "\n",
    "@app.callback(Output('cytoscape-compound', 'layout'),\n",
    "              Input('dropdown-update-layout', 'value'))\n",
    "def update_layout(layout):\n",
    "    return {'name': layout}"
   ]
  },
  {
   "cell_type": "code",
   "execution_count": 193,
   "id": "7c4abcd0-1771-4aea-894d-1e2fdf0377e9",
   "metadata": {},
   "outputs": [
    {
     "name": "stdout",
     "output_type": "stream",
     "text": [
      "Dash app running on https://jupyter.idre.ucla.edu/user/opheliadong@gmail.com/proxy/8050/\n"
     ]
    }
   ],
   "source": [
    "app.run_server(debug=True)"
   ]
  },
  {
   "cell_type": "code",
   "execution_count": 194,
   "id": "bfd582b6-f9c1-4534-a4fc-8c74118f5663",
   "metadata": {},
   "outputs": [],
   "source": [
    "app = JupyterDash(__name__)"
   ]
  },
  {
   "cell_type": "code",
   "execution_count": 195,
   "id": "836861d3-6f34-4d38-bd84-5281eababc81",
   "metadata": {},
   "outputs": [],
   "source": [
    "app.layout = html.Div([\n",
    "    dcc.Dropdown(\n",
    "        id='dropdown-update-layout',\n",
    "        value='cose',\n",
    "        options=[\n",
    "            {'label': 'Grid', 'value': 'grid'},\n",
    "            {'label': 'Random', 'value': 'random'},\n",
    "            {'label': 'Circle', 'value': 'circle'},\n",
    "            {'label': 'Cose', 'value': 'cose'},\n",
    "            {'label': 'Concentric', 'value': 'concentric'}\n",
    "        ]\n",
    "    ),\n",
    "    cyto.Cytoscape(\n",
    "        id='cytoscape-compound',\n",
    "        layout={'name': 'cose'},\n",
    "        elements=graphitems,\n",
    "        \n",
    "        stylesheet=[\n",
    "            {\n",
    "                'selector': 'node',\n",
    "                'style': {\n",
    "                    'background-color': 'green',\n",
    "                    'content': 'data(label)',\n",
    "                }\n",
    "            },\n",
    "        ]\n",
    "    )\n",
    "])\n",
    "\n",
    "@app.callback(Output('cytoscape-compound', 'layout'),\n",
    "              Input('dropdown-update-layout', 'value'))\n",
    "def update_layout(layout):\n",
    "    return {'name': layout}"
   ]
  },
  {
   "cell_type": "code",
   "execution_count": 196,
   "id": "84b8a24a-6272-4a43-a32c-d47f9c6ef8c7",
   "metadata": {},
   "outputs": [
    {
     "name": "stdout",
     "output_type": "stream",
     "text": [
      "Dash app running on https://jupyter.idre.ucla.edu/user/opheliadong@gmail.com/proxy/8050/\n"
     ]
    }
   ],
   "source": [
    "app.run_server(debug=True)"
   ]
  },
  {
   "cell_type": "markdown",
   "id": "b1a3ddc7-1eaa-45c3-8606-209d643f708d",
   "metadata": {},
   "source": [
    "#### Below are the network visualization of the Romeo and Juliet play. \n",
    "\n",
    "#### Node: character names & the total number of times they appear\n",
    "#### Edge: the least number of times that both characters appear in a scene\n",
    "#### Example: for the string 'romeo romeo romeo juliet juiet,' Node'romeo' appear 3 times, Node 'juliet' appears 2 times, edge ('romeo, juliet') appears 2 times. "
   ]
  },
  {
   "cell_type": "code",
   "execution_count": 197,
   "id": "0ad1a0ff-5292-4a70-a23e-5756a11dbb5e",
   "metadata": {
    "tags": []
   },
   "outputs": [],
   "source": [
    "with open('Shakespeare.txt') as f:\n",
    "    text = f.read()"
   ]
  },
  {
   "cell_type": "markdown",
   "id": "afa537d2-0cc8-4b2b-9bf5-983bfeafd862",
   "metadata": {},
   "source": [
    "#### This text has a prologue, 5 acts, and a few words by the publisher after the last scene ends. \n",
    "\n",
    "#### First, I will take out the publisher's words at the end. \n",
    "#### Then, I will take the prologue out from the text since a quick inspection showed that the prologue does not include any character's name."
   ]
  },
  {
   "cell_type": "code",
   "execution_count": 198,
   "id": "1cec507a-9746-428a-8bdd-874df5d975ec",
   "metadata": {},
   "outputs": [],
   "source": [
    "text_cleaned = text.split('THE END')[0]\n",
    "text_cleaned = text_cleaned.split('ACT')[1:6]"
   ]
  },
  {
   "cell_type": "code",
   "execution_count": 199,
   "id": "56e5bd88-ed43-488d-a02e-61a0df59beae",
   "metadata": {},
   "outputs": [],
   "source": [
    "character_list = ['Escalus','Paris','Montague','Capulet','An old Man','Romeo',\n",
    "                  'Tybalt','Mercutio','Benvolio','Tybalt','Friar Laurence',\n",
    "                  'Friar John','Balthasar','Abram','Sampson','Gregory','Peter','Lady Montague',\n",
    "                  'Lady Capulet','Juliet','Nurse to Juliet']"
   ]
  },
  {
   "cell_type": "code",
   "execution_count": 200,
   "id": "01c23ad7-8b8e-4017-b3de-02a2ceb85e62",
   "metadata": {},
   "outputs": [
    {
     "data": {
      "text/plain": [
       "5"
      ]
     },
     "execution_count": 200,
     "metadata": {},
     "output_type": "execute_result"
    }
   ],
   "source": [
    "# Each element in the list text_cleaned in an act\n",
    "len(text_cleaned)"
   ]
  },
  {
   "cell_type": "code",
   "execution_count": 201,
   "id": "c851fe8a-74ad-4d92-8511-fd9bb4341a21",
   "metadata": {},
   "outputs": [],
   "source": [
    "connections = {}\n",
    "for i in range(len(character_list)-1):\n",
    "    for j in range(i+1,len(character_list)):\n",
    "        connections[(character_list[i],character_list[j])] = 0"
   ]
  },
  {
   "cell_type": "code",
   "execution_count": 202,
   "id": "ec845ace-588b-4a56-a951-8f6dce4bae5f",
   "metadata": {},
   "outputs": [],
   "source": [
    "charnum ={}\n",
    "for k in character_list:\n",
    "    charnum[k] = 0"
   ]
  },
  {
   "cell_type": "code",
   "execution_count": 203,
   "id": "f3dc3c30-84da-4a3b-82d1-763f5fcb9bb9",
   "metadata": {},
   "outputs": [],
   "source": [
    "for act_i in text_cleaned:\n",
    "    for scene_j in act_i.split(\"Scene\"):\n",
    "        # recording character name and number of times they appear in a scene\n",
    "        # dict format - Name: # of appeared times in scene_j \n",
    "        dict = {}\n",
    "        for char in character_list:\n",
    "            if scene_j.count(char) != 0:\n",
    "                dict[char] = scene_j.count(char)\n",
    "                charnum[char] += scene_j.count(char)\n",
    "        for name1 in range(len(dict)-1):\n",
    "            for name2 in range(name1+1,len(dict)):\n",
    "                if dict[list(dict.keys())[name1]] <= dict[list(dict.keys())[name2]]:\n",
    "                    connections[(list(dict.keys())[name1],list(dict.keys())[name2])] += dict[list(dict.keys())[name1]]\n",
    "                else: \n",
    "                    connections[(list(dict.keys())[name1],list(dict.keys())[name2])] += dict[list(dict.keys())[name2]]"
   ]
  },
  {
   "cell_type": "code",
   "execution_count": 204,
   "id": "6f691b18-55f8-4657-a0c6-d0a613505374",
   "metadata": {},
   "outputs": [],
   "source": [
    "# remove names and connections with zero entries \n",
    "charnum = {name:count for name,count in charnum.items() if count != 0}\n",
    "connections = {(source,target):weight for (source,target),weight in connections.items()\n",
    "              if weight != 0}"
   ]
  },
  {
   "cell_type": "code",
   "execution_count": 205,
   "id": "3ed13416-793c-45d2-91d1-a199dc998a5a",
   "metadata": {},
   "outputs": [
    {
     "name": "stdout",
     "output_type": "stream",
     "text": [
      "57\n"
     ]
    }
   ],
   "source": [
    "# change the charnum and connections dictionaries into graph items \n",
    "# with correction factor for a clearer representation\n",
    "\n",
    "graphitems = []\n",
    "\n",
    "for k,v in charnum.items():\n",
    "    dashnode = {'data': {'id': k,\n",
    "                         'label': k.title(),\n",
    "                         'size': str(v)}}\n",
    "    graphitems.append(dashnode)\n",
    "\n",
    "correction_factor = max(connections.values())\n",
    "\n",
    "for k,v in connections.items():\n",
    "    if v != 0:\n",
    "        dashedge = {'data': {'source': k[0],\n",
    "                             'target': k[1],\n",
    "                             'weight': v/correction_factor}}\n",
    "        graphitems.append(dashedge)"
   ]
  },
  {
   "cell_type": "code",
   "execution_count": 206,
   "id": "ab320077-e4f2-415c-9471-c77b2adc4a89",
   "metadata": {},
   "outputs": [
    {
     "name": "stdout",
     "output_type": "stream",
     "text": [
      "Dash app running on https://jupyter.idre.ucla.edu/user/opheliadong@gmail.com/proxy/8050/\n"
     ]
    }
   ],
   "source": [
    "app = JupyterDash(__name__)\n",
    "\n",
    "app.layout = html.Div([\n",
    "    cyto.Cytoscape(\n",
    "        layout={'name': 'cose'},\n",
    "        elements=graphitems,\n",
    "        style={'width': '100%', 'height': '750px'},\n",
    "        stylesheet=[\n",
    "            {\n",
    "                'selector': 'node',\n",
    "                'style': {\n",
    "                    'content':'data(label)',\n",
    "                    'text-halign':'center',\n",
    "                    'text-valign':'center',\n",
    "                    'width': 'data(size)',\n",
    "                    'height': 'data(size)',\n",
    "                    'font-size':5,\n",
    "                    'color': 'black',\n",
    "                    'background-color': 'red',\n",
    "                    'text-outline-color': 'white',\n",
    "                    'text-outline-width': 0.2,\n",
    "                    'shape':'circle'\n",
    "                }\n",
    "            },\n",
    "            {\n",
    "                'selector':'edge',\n",
    "                'style': {\n",
    "                    'width':'data(weight)',\n",
    "                    'line-color': 'blue',\n",
    "                  }\n",
    "            },\n",
    "        ]\n",
    "    )\n",
    "])\n",
    "\n",
    "app.run_server(debug=True)"
   ]
  },
  {
   "cell_type": "markdown",
   "id": "7016c157-cdeb-450b-8f10-c373a6c6ab65",
   "metadata": {},
   "source": [
    "#### Comment on network density \n",
    "#### There are three dominating nodes, \"Romeo,\" \"Tybalt\" and \"Juliet.\" The rest of the nodes a significantly smaller. There isn't a smooth range in sizes, but more extreme ones, either very large or very big. \n",
    "#### The \"important\" nodes, as determined by size, would be \"Romeo,\" \"Tybalt\" and \"Juliet.\" \n",
    "#### There are two quite \"important\" realizations that we can derive from this visualization. The first is that the respective edge between \"Romeo\" and the other two dominating nodes are much stronger than the other. This means that the number of times \"Romeo\" appears in a scene where \"Tybalt\" also appears is very frequent. \n",
    "#### The second observation is that the \"Juliet\" node, though also large, is much smaller than \"Romeo\" and \"Tybalt,\" which is strange since she is the main character that has her name stamped to the play. But in terms of her name's appearance in the play, it's even less than Tybalt. Perhaps Shakespeare wanted to put more emphasis on the male characters? I wonder that, if we do an analysis on the number of words Juliet spoke, is it significantly less than Romeo? Or Tybalt? If we analyze other plays from the same historical period, would we see similar trends, where female main characters being mentioned much less than her male equivalent parts? It is quite unexpected that a visualization between character names can reveal some aspects of gender inequality in theatre. \n"
   ]
  }
 ],
 "metadata": {
  "kernelspec": {
   "display_name": "Python 3 (ipykernel)",
   "language": "python",
   "name": "python3"
  },
  "language_info": {
   "codemirror_mode": {
    "name": "ipython",
    "version": 3
   },
   "file_extension": ".py",
   "mimetype": "text/x-python",
   "name": "python",
   "nbconvert_exporter": "python",
   "pygments_lexer": "ipython3",
   "version": "3.9.6"
  }
 },
 "nbformat": 4,
 "nbformat_minor": 5
}
